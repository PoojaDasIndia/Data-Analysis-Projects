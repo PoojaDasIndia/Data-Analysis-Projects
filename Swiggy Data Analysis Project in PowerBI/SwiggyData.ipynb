{
 "cells": [
  {
   "cell_type": "markdown",
   "id": "f2091b26-7173-4fa7-bcdb-41c17fa7a5c5",
   "metadata": {},
   "source": [
    "<center>\n",
    "    <img src ='.\\Images\\Swiggy_logo.png?raw=true'width = \"250\"/>\n",
    "</center>\n",
    "<p style=\"font-size:50px; font-style:bold;text-decoration: underline;color:#fc8019;text-align: center \">\n",
    " Swiggy Metro Cities Data Analysis\n",
    "</p>"
   ]
  },
  {
   "cell_type": "markdown",
   "id": "49fb9652-5bdb-4ccc-8395-a73d5cf25c13",
   "metadata": {},
   "source": [
    "\n",
    "## <span style=\"color:#FC8019;font-size:25px; font-style:bold;\"><u><b>About Dataset</b></u></span>\n",
    "\n",
    "Context:\n",
    "\n",
    "This dataset contains swiggy registered restaurants details of major metropoliton cities of India. It considered only metropoliton cities with population 4.5 million. As per the Census of India 2011 definition of more than 4 million population, some of the major Metropolitan Cities in India are:\n",
    "\n",
    "\n",
    "Content:\n",
    "\n",
    "This Dataset Contains 18 Different Columns which are :\n",
    "\n",
    " 1.  type --> Contain (F,D,C,P) Means \n",
    "         > Fine Restaurants\n",
    "         > Dessert Restaurants\n",
    "         > Continental Restaurants\n",
    "         > Premium Restaurants\n",
    " \n",
    " 2.   id --> Restaurants id                  \n",
    " 3.   name  --> Restaurants name           \n",
    " 4.   uuid --> Universally Unique Identifiers\n",
    " 5.   city -->  Restaurants Belong from City  \n",
    " \n",
    "            * Mumbai (more than 18 Million)\n",
    "            * Delhi (more than 16 Million)\n",
    "            * Kolkata (more than 14 Million)\n",
    "            * Chennai (more than 8.6 million)\n",
    "            * Bangalore (around 8.5 million)\n",
    "            * Hyderabad (around 7.6 million)\n",
    "            * Ahmedabad (around 6.3 million)\n",
    "            * Pune (around 5.05 million)\n",
    "            * Surat (around 4.5 million)\n",
    "            \n",
    " 6.   area  -->  Restaurants belong from Area              \n",
    " 7.   avgRating --> Restaurants   Average Rating         \n",
    " 8.   totalRatingsString --> Restaurants   Total  Rating  string\n",
    " 9.   cuisines  --> Restaurants   Serving Cuisines (Menu)\n",
    " 10.  costForTwoStrings  --> Restaurants   Cost for Two \n",
    " 11.  deliveryTime    --> Restaurants   Delivery Time\n",
    " 12.  minDeliveryTime  --> Restaurants  Minimum Delivery Time\n",
    " 14.  maxDeliveryTime  --> Restaurants  Maximum Delivery Time  \n",
    " 14.  address  --> Restaurants  address \n",
    " 15.  locality  --> Restaurants  locality\n",
    " 16.  unserviceable --> Restaurants  provide service or not\n",
    " 17.  veg    --> Restaurants   Serving food veg. or non-veg\n",
    " 18.  City \n",
    "\n",
    "\n",
    "    \n",
    "\n",
    "\n",
    "<u>Acknowledgements:<u>\n",
    "Thank you swiggy for the dataset.\n",
    "\n"
   ]
  },
  {
   "cell_type": "code",
   "execution_count": 7,
   "id": "c8e082bf-3b0f-4aa7-b0f3-8fd1dcd80dc1",
   "metadata": {},
   "outputs": [
    {
     "name": "stdout",
     "output_type": "stream",
     "text": [
      "Import Successfully...\n",
      "Setting Successully..\n"
     ]
    }
   ],
   "source": [
    "# Import Library\n",
    "import opendatasets as od\n",
    "import os\n",
    "import pandas as pd \n",
    "import numpy as np\n",
    "import seaborn as sns\n",
    "import matplotlib\n",
    "\n",
    "import matplotlib.pyplot as plt\n",
    "%matplotlib inline\n",
    "import warnings\n",
    "print(\"Import Successfully...\")\n",
    "\n",
    "# Setting\n",
    "warnings.filterwarnings('ignore')\n",
    "pd.pandas.set_option(\"display.max_columns\",None)\n",
    "sns.set_style(\"darkgrid\")\n",
    "matplotlib.rcParams['font.size']=14\n",
    "matplotlib.rcParams['figure.figsize']=(15,7)\n",
    "matplotlib.rcParams['figure.facecolor']='#FFFFFF'\n",
    "\n",
    "print(\"Setting Successully..\")"
   ]
  },
  {
   "cell_type": "code",
   "execution_count": 16,
   "id": "a200c13a-f701-417a-85ef-7661f4ddc7cf",
   "metadata": {},
   "outputs": [
    {
     "name": "stdout",
     "output_type": "stream",
     "text": [
      "Please provide your Kaggle credentials to download this dataset. Learn more: http://bit.ly/kaggle-creds\n",
      "Your Kaggle username:"
     ]
    },
    {
     "name": "stdout",
     "output_type": "stream",
     "text": [
      "  poojadasdodo\n"
     ]
    },
    {
     "name": "stdout",
     "output_type": "stream",
     "text": [
      "Your Kaggle Key:"
     ]
    },
    {
     "name": "stdout",
     "output_type": "stream",
     "text": [
      "  ································\n"
     ]
    },
    {
     "name": "stderr",
     "output_type": "stream",
     "text": [
      "2022-08-07 23:57:59,829 WARNING Retrying (Retry(total=2, connect=None, read=None, redirect=None, status=None)) after connection broken by 'SSLError(SSLEOFError(8, 'EOF occurred in violation of protocol (_ssl.c:1129)'))': /api/v1/datasets/download/aniruddhapa/swiggy-restaurants-dataset-of-metro-cities\n"
     ]
    },
    {
     "name": "stdout",
     "output_type": "stream",
     "text": [
      "Downloading swiggy-restaurants-dataset-of-metro-cities.zip to .\\swiggy-restaurants-dataset-of-metro-cities\n"
     ]
    },
    {
     "name": "stderr",
     "output_type": "stream",
     "text": [
      "100%|███████████████████████████████████████████████████████████████████████████████| 776k/776k [00:00<00:00, 2.05MB/s]\n"
     ]
    },
    {
     "name": "stdout",
     "output_type": "stream",
     "text": [
      "\n",
      "Dataset has been downloaded......\n"
     ]
    }
   ],
   "source": [
    "# Downloading Dataset from Kaggle for that I am using Opendatasets library\n",
    "\n",
    "# dataset_url is our  Dataset URL link\n",
    "dataset_url = 'https://www.kaggle.com/datasets/aniruddhapa/swiggy-restaurants-dataset-of-metro-cities' \n",
    "\n",
    "# Download dataset_url with the help of  Opendatasets's download() function\n",
    "od.download(dataset_url)\n",
    "\n",
    "print(\"Dataset has been downloaded......\")"
   ]
  },
  {
   "cell_type": "code",
   "execution_count": 17,
   "id": "d97ddcd3-0b4a-4df8-b721-6080fa7dc963",
   "metadata": {},
   "outputs": [
    {
     "name": "stdout",
     "output_type": "stream",
     "text": [
      "Dataset has been Extracted sucessfully......\n"
     ]
    }
   ],
   "source": [
    "# The dataset has been downloaded and extracted.\n",
    "#Extracted File inn data_dir\n",
    "data_dir = './swiggy-restaurants-dataset-of-metro-cities'\n",
    "\n",
    "print(\"Dataset has been Extracted sucessfully......\")"
   ]
  },
  {
   "cell_type": "markdown",
   "id": "9bc49371-f97c-4d1b-a36a-391b2edf751a",
   "metadata": {},
   "source": [
    "## <span style=\"color:#FC8019;font-size:25px; font-style:bold;\"><u><b>Data Preparation and Cleaning</b></u></span> \n",
    "\n",
    "**The raw data is now obtained. First we need to clean and simplify the data in order to prepare it for Analysis.** \n",
    "\n",
    "1. Load the file using Pandas\n",
    "2. Look at some information about the data & the columns\n",
    "3. Fix any missing or incorrect values"
   ]
  },
  {
   "cell_type": "code",
   "execution_count": 18,
   "id": "80c1b2a1-4366-45bc-97a9-770e1845775f",
   "metadata": {},
   "outputs": [
    {
     "data": {
      "text/plain": [
       "['Swiggy_dataset.csv']"
      ]
     },
     "execution_count": 18,
     "metadata": {},
     "output_type": "execute_result"
    }
   ],
   "source": [
    "os.listdir(data_dir)"
   ]
  },
  {
   "cell_type": "code",
   "execution_count": 21,
   "id": "1f464a50-3e49-420c-b89f-f9f16df590e2",
   "metadata": {},
   "outputs": [],
   "source": [
    "dataset = pd.read_csv('./swiggy-restaurants-dataset-of-metro-cities/Swiggy_dataset.csv')"
   ]
  },
  {
   "cell_type": "code",
   "execution_count": 22,
   "id": "026a0d93-1d03-4928-8e56-f4efc67df23c",
   "metadata": {},
   "outputs": [
    {
     "data": {
      "text/html": [
       "<div>\n",
       "<style scoped>\n",
       "    .dataframe tbody tr th:only-of-type {\n",
       "        vertical-align: middle;\n",
       "    }\n",
       "\n",
       "    .dataframe tbody tr th {\n",
       "        vertical-align: top;\n",
       "    }\n",
       "\n",
       "    .dataframe thead th {\n",
       "        text-align: right;\n",
       "    }\n",
       "</style>\n",
       "<table border=\"1\" class=\"dataframe\">\n",
       "  <thead>\n",
       "    <tr style=\"text-align: right;\">\n",
       "      <th></th>\n",
       "      <th>type</th>\n",
       "      <th>id</th>\n",
       "      <th>name</th>\n",
       "      <th>uuid</th>\n",
       "      <th>city</th>\n",
       "      <th>area</th>\n",
       "      <th>avgRating</th>\n",
       "      <th>totalRatingsString</th>\n",
       "      <th>cuisines</th>\n",
       "      <th>costForTwoStrings</th>\n",
       "      <th>deliveryTime</th>\n",
       "      <th>minDeliveryTime</th>\n",
       "      <th>maxDeliveryTime</th>\n",
       "      <th>address</th>\n",
       "      <th>locality</th>\n",
       "      <th>unserviceable</th>\n",
       "      <th>veg</th>\n",
       "      <th>City</th>\n",
       "    </tr>\n",
       "  </thead>\n",
       "  <tbody>\n",
       "    <tr>\n",
       "      <th>0</th>\n",
       "      <td>F</td>\n",
       "      <td>37933</td>\n",
       "      <td>Faasos - Wraps &amp; Rolls</td>\n",
       "      <td>6fe9caf1-02a7-4e66-83bb-1b4ff296b683</td>\n",
       "      <td>Ahmedabad</td>\n",
       "      <td>Vastrapur</td>\n",
       "      <td>4.2</td>\n",
       "      <td>500+ ratings</td>\n",
       "      <td>['Combo' 'Snacks' 'Beverages' 'Desserts' 'Indi...</td>\n",
       "      <td>₹200 FOR TWO</td>\n",
       "      <td>44</td>\n",
       "      <td>44</td>\n",
       "      <td>44</td>\n",
       "      <td>SHOP NO 2 HOTEL SHAHI PALACE VASTRAPUR LAKE AH...</td>\n",
       "      <td>HOTEL SHAHI PALACE</td>\n",
       "      <td>False</td>\n",
       "      <td>False</td>\n",
       "      <td>NaN</td>\n",
       "    </tr>\n",
       "    <tr>\n",
       "      <th>1</th>\n",
       "      <td>F</td>\n",
       "      <td>81814</td>\n",
       "      <td>Burger King</td>\n",
       "      <td>10083576-d32d-4a0e-8a82-3236ef342a19</td>\n",
       "      <td>Ahmedabad</td>\n",
       "      <td>Ellisbridge</td>\n",
       "      <td>4.2</td>\n",
       "      <td>1000+ ratings</td>\n",
       "      <td>['American' 'Fast Food']</td>\n",
       "      <td>₹350 FOR TWO</td>\n",
       "      <td>33</td>\n",
       "      <td>33</td>\n",
       "      <td>33</td>\n",
       "      <td>SHOP # 5 GR FLR THIRD EYE 2PANCHAVATI CIRCLE O...</td>\n",
       "      <td>3rd Eye II Ellis Bridge CG Road</td>\n",
       "      <td>False</td>\n",
       "      <td>False</td>\n",
       "      <td>NaN</td>\n",
       "    </tr>\n",
       "    <tr>\n",
       "      <th>2</th>\n",
       "      <td>F</td>\n",
       "      <td>107046</td>\n",
       "      <td>Mahalaxmi Pav Bhaji</td>\n",
       "      <td>fbfe3bfa-03fd-4708-b913-06e2c9ee9639</td>\n",
       "      <td>Ahmedabad</td>\n",
       "      <td>Ellisbridge</td>\n",
       "      <td>4.3</td>\n",
       "      <td>500+ ratings</td>\n",
       "      <td>['North Indian']</td>\n",
       "      <td>₹200 FOR TWO</td>\n",
       "      <td>28</td>\n",
       "      <td>28</td>\n",
       "      <td>28</td>\n",
       "      <td>GF 9/10 Dev complexnear parimal charasta opp. ...</td>\n",
       "      <td>C G Road</td>\n",
       "      <td>False</td>\n",
       "      <td>True</td>\n",
       "      <td>NaN</td>\n",
       "    </tr>\n",
       "    <tr>\n",
       "      <th>3</th>\n",
       "      <td>F</td>\n",
       "      <td>328315</td>\n",
       "      <td>HIIT Meals</td>\n",
       "      <td>81ab4019-2445-4aef-aff2-04beccd641d9</td>\n",
       "      <td>Ahmedabad</td>\n",
       "      <td>Vishala</td>\n",
       "      <td>--</td>\n",
       "      <td>Too Few Ratings</td>\n",
       "      <td>['Fast Food' 'Combo' 'Snacks' 'North Indian' '...</td>\n",
       "      <td>₹150 FOR TWO</td>\n",
       "      <td>51</td>\n",
       "      <td>51</td>\n",
       "      <td>51</td>\n",
       "      <td>C11 Rajyash Rise Near Vishala Restaurant Vasna...</td>\n",
       "      <td>Vasna</td>\n",
       "      <td>False</td>\n",
       "      <td>False</td>\n",
       "      <td>NaN</td>\n",
       "    </tr>\n",
       "    <tr>\n",
       "      <th>4</th>\n",
       "      <td>F</td>\n",
       "      <td>108879</td>\n",
       "      <td>Jay Jalaram Parotha House</td>\n",
       "      <td>994e73e1-7c7c-4ad9-87e7-ecfecd4e36fa</td>\n",
       "      <td>Ahmedabad</td>\n",
       "      <td>Ellisbridge</td>\n",
       "      <td>3.9</td>\n",
       "      <td>100+ ratings</td>\n",
       "      <td>['North Indian']</td>\n",
       "      <td>₹250 FOR TWO</td>\n",
       "      <td>29</td>\n",
       "      <td>29</td>\n",
       "      <td>29</td>\n",
       "      <td>Capital Commercial Centre Near UCO Bank Ashram...</td>\n",
       "      <td>Ashram Road</td>\n",
       "      <td>False</td>\n",
       "      <td>True</td>\n",
       "      <td>NaN</td>\n",
       "    </tr>\n",
       "  </tbody>\n",
       "</table>\n",
       "</div>"
      ],
      "text/plain": [
       "  type      id                       name  \\\n",
       "0    F   37933     Faasos - Wraps & Rolls   \n",
       "1    F   81814                Burger King   \n",
       "2    F  107046        Mahalaxmi Pav Bhaji   \n",
       "3    F  328315                 HIIT Meals   \n",
       "4    F  108879  Jay Jalaram Parotha House   \n",
       "\n",
       "                                   uuid       city         area avgRating  \\\n",
       "0  6fe9caf1-02a7-4e66-83bb-1b4ff296b683  Ahmedabad    Vastrapur       4.2   \n",
       "1  10083576-d32d-4a0e-8a82-3236ef342a19  Ahmedabad  Ellisbridge       4.2   \n",
       "2  fbfe3bfa-03fd-4708-b913-06e2c9ee9639  Ahmedabad  Ellisbridge       4.3   \n",
       "3  81ab4019-2445-4aef-aff2-04beccd641d9  Ahmedabad      Vishala        --   \n",
       "4  994e73e1-7c7c-4ad9-87e7-ecfecd4e36fa  Ahmedabad  Ellisbridge       3.9   \n",
       "\n",
       "  totalRatingsString                                           cuisines  \\\n",
       "0       500+ ratings  ['Combo' 'Snacks' 'Beverages' 'Desserts' 'Indi...   \n",
       "1      1000+ ratings                           ['American' 'Fast Food']   \n",
       "2       500+ ratings                                   ['North Indian']   \n",
       "3    Too Few Ratings  ['Fast Food' 'Combo' 'Snacks' 'North Indian' '...   \n",
       "4       100+ ratings                                   ['North Indian']   \n",
       "\n",
       "  costForTwoStrings  deliveryTime  minDeliveryTime  maxDeliveryTime  \\\n",
       "0      ₹200 FOR TWO            44               44               44   \n",
       "1      ₹350 FOR TWO            33               33               33   \n",
       "2      ₹200 FOR TWO            28               28               28   \n",
       "3      ₹150 FOR TWO            51               51               51   \n",
       "4      ₹250 FOR TWO            29               29               29   \n",
       "\n",
       "                                             address  \\\n",
       "0  SHOP NO 2 HOTEL SHAHI PALACE VASTRAPUR LAKE AH...   \n",
       "1  SHOP # 5 GR FLR THIRD EYE 2PANCHAVATI CIRCLE O...   \n",
       "2  GF 9/10 Dev complexnear parimal charasta opp. ...   \n",
       "3  C11 Rajyash Rise Near Vishala Restaurant Vasna...   \n",
       "4  Capital Commercial Centre Near UCO Bank Ashram...   \n",
       "\n",
       "                          locality unserviceable    veg  City  \n",
       "0               HOTEL SHAHI PALACE         False  False   NaN  \n",
       "1  3rd Eye II Ellis Bridge CG Road         False  False   NaN  \n",
       "2                         C G Road         False   True   NaN  \n",
       "3                            Vasna         False  False   NaN  \n",
       "4                      Ashram Road         False   True   NaN  "
      ]
     },
     "execution_count": 22,
     "metadata": {},
     "output_type": "execute_result"
    }
   ],
   "source": [
    "dataset.head()"
   ]
  },
  {
   "cell_type": "code",
   "execution_count": 23,
   "id": "137a0238-fa2c-4eb8-baf2-96cbfdeddd5e",
   "metadata": {},
   "outputs": [
    {
     "name": "stdout",
     "output_type": "stream",
     "text": [
      "<class 'pandas.core.frame.DataFrame'>\n",
      "RangeIndex: 8691 entries, 0 to 8690\n",
      "Data columns (total 18 columns):\n",
      " #   Column              Non-Null Count  Dtype  \n",
      "---  ------              --------------  -----  \n",
      " 0   type                8691 non-null   object \n",
      " 1   id                  8691 non-null   int64  \n",
      " 2   name                8691 non-null   object \n",
      " 3   uuid                8688 non-null   object \n",
      " 4   city                8691 non-null   object \n",
      " 5   area                8691 non-null   object \n",
      " 6   avgRating           8691 non-null   object \n",
      " 7   totalRatingsString  8691 non-null   object \n",
      " 8   cuisines            8691 non-null   object \n",
      " 9   costForTwoStrings   8691 non-null   object \n",
      " 10  deliveryTime        8691 non-null   int64  \n",
      " 11  minDeliveryTime     8691 non-null   int64  \n",
      " 12  maxDeliveryTime     8691 non-null   int64  \n",
      " 13  address             8682 non-null   object \n",
      " 14  locality            8681 non-null   object \n",
      " 15  unserviceable       8685 non-null   object \n",
      " 16  veg                 8685 non-null   object \n",
      " 17  City                0 non-null      float64\n",
      "dtypes: float64(1), int64(4), object(13)\n",
      "memory usage: 1.2+ MB\n"
     ]
    }
   ],
   "source": [
    "dataset.info()"
   ]
  },
  {
   "cell_type": "code",
   "execution_count": 24,
   "id": "6cf5f7ce-089d-40d6-9e10-4abb261594e4",
   "metadata": {},
   "outputs": [
    {
     "data": {
      "text/html": [
       "<div>\n",
       "<style scoped>\n",
       "    .dataframe tbody tr th:only-of-type {\n",
       "        vertical-align: middle;\n",
       "    }\n",
       "\n",
       "    .dataframe tbody tr th {\n",
       "        vertical-align: top;\n",
       "    }\n",
       "\n",
       "    .dataframe thead th {\n",
       "        text-align: right;\n",
       "    }\n",
       "</style>\n",
       "<table border=\"1\" class=\"dataframe\">\n",
       "  <thead>\n",
       "    <tr style=\"text-align: right;\">\n",
       "      <th></th>\n",
       "      <th>id</th>\n",
       "      <th>deliveryTime</th>\n",
       "      <th>minDeliveryTime</th>\n",
       "      <th>maxDeliveryTime</th>\n",
       "      <th>City</th>\n",
       "    </tr>\n",
       "  </thead>\n",
       "  <tbody>\n",
       "    <tr>\n",
       "      <th>count</th>\n",
       "      <td>8691.000000</td>\n",
       "      <td>8691.000000</td>\n",
       "      <td>8691.000000</td>\n",
       "      <td>8691.000000</td>\n",
       "      <td>0.0</td>\n",
       "    </tr>\n",
       "    <tr>\n",
       "      <th>mean</th>\n",
       "      <td>244855.957887</td>\n",
       "      <td>53.959268</td>\n",
       "      <td>53.130480</td>\n",
       "      <td>53.130480</td>\n",
       "      <td>NaN</td>\n",
       "    </tr>\n",
       "    <tr>\n",
       "      <th>std</th>\n",
       "      <td>158650.520513</td>\n",
       "      <td>14.290555</td>\n",
       "      <td>13.701142</td>\n",
       "      <td>13.701142</td>\n",
       "      <td>NaN</td>\n",
       "    </tr>\n",
       "    <tr>\n",
       "      <th>min</th>\n",
       "      <td>211.000000</td>\n",
       "      <td>20.000000</td>\n",
       "      <td>20.000000</td>\n",
       "      <td>20.000000</td>\n",
       "      <td>NaN</td>\n",
       "    </tr>\n",
       "    <tr>\n",
       "      <th>25%</th>\n",
       "      <td>72885.500000</td>\n",
       "      <td>44.000000</td>\n",
       "      <td>44.000000</td>\n",
       "      <td>44.000000</td>\n",
       "      <td>NaN</td>\n",
       "    </tr>\n",
       "    <tr>\n",
       "      <th>50%</th>\n",
       "      <td>283560.000000</td>\n",
       "      <td>52.000000</td>\n",
       "      <td>52.000000</td>\n",
       "      <td>52.000000</td>\n",
       "      <td>NaN</td>\n",
       "    </tr>\n",
       "    <tr>\n",
       "      <th>75%</th>\n",
       "      <td>393448.500000</td>\n",
       "      <td>64.000000</td>\n",
       "      <td>63.000000</td>\n",
       "      <td>63.000000</td>\n",
       "      <td>NaN</td>\n",
       "    </tr>\n",
       "    <tr>\n",
       "      <th>max</th>\n",
       "      <td>466928.000000</td>\n",
       "      <td>109.000000</td>\n",
       "      <td>109.000000</td>\n",
       "      <td>109.000000</td>\n",
       "      <td>NaN</td>\n",
       "    </tr>\n",
       "  </tbody>\n",
       "</table>\n",
       "</div>"
      ],
      "text/plain": [
       "                  id  deliveryTime  minDeliveryTime  maxDeliveryTime  City\n",
       "count    8691.000000   8691.000000      8691.000000      8691.000000   0.0\n",
       "mean   244855.957887     53.959268        53.130480        53.130480   NaN\n",
       "std    158650.520513     14.290555        13.701142        13.701142   NaN\n",
       "min       211.000000     20.000000        20.000000        20.000000   NaN\n",
       "25%     72885.500000     44.000000        44.000000        44.000000   NaN\n",
       "50%    283560.000000     52.000000        52.000000        52.000000   NaN\n",
       "75%    393448.500000     64.000000        63.000000        63.000000   NaN\n",
       "max    466928.000000    109.000000       109.000000       109.000000   NaN"
      ]
     },
     "execution_count": 24,
     "metadata": {},
     "output_type": "execute_result"
    }
   ],
   "source": [
    "dataset.describe()"
   ]
  },
  {
   "cell_type": "code",
   "execution_count": null,
   "id": "943a0885-7e7a-48bb-bab6-43a168d57afa",
   "metadata": {},
   "outputs": [],
   "source": []
  }
 ],
 "metadata": {
  "kernelspec": {
   "display_name": "Python 3 (ipykernel)",
   "language": "python",
   "name": "python3"
  },
  "language_info": {
   "codemirror_mode": {
    "name": "ipython",
    "version": 3
   },
   "file_extension": ".py",
   "mimetype": "text/x-python",
   "name": "python",
   "nbconvert_exporter": "python",
   "pygments_lexer": "ipython3",
   "version": "3.9.12"
  },
  "widgets": {
   "application/vnd.jupyter.widget-state+json": {
    "state": {},
    "version_major": 2,
    "version_minor": 0
   }
  }
 },
 "nbformat": 4,
 "nbformat_minor": 5
}
